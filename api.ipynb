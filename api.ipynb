{
 "cells": [
  {
   "cell_type": "code",
   "execution_count": 20,
   "metadata": {},
   "outputs": [
    {
     "data": {
      "text/plain": [
       "<Response [200]>"
      ]
     },
     "execution_count": 20,
     "metadata": {},
     "output_type": "execute_result"
    }
   ],
   "source": [
    "import requests\n",
    "from collections import namedtuple\n",
    "\n",
    "import pandas as pd\n",
    "# https://clinicaltables.nlm.nih.gov/api/icd9cm_dx/v3/search\n",
    "\n",
    "params = {'terms': '250'}\n",
    "response = requests.get('https://clinicaltables.nlm.nih.gov/api/icd9cm_dx/v3/search', params=params)\n",
    "response"
   ]
  },
  {
   "cell_type": "code",
   "execution_count": 8,
   "metadata": {},
   "outputs": [],
   "source": [
    "API_res = namedtuple('Results', ['num_of_res', 'searched', 'additional', 'results'])\n",
    "def get_icd9_from_api(key):\n",
    "    req = requests.get('https://clinicaltables.nlm.nih.gov/api/icd9cm_dx/v3/search', params={'terms': key, \n",
    "                                                                                             'ef': 'short_name'})\n",
    "    res = API_res._make(req.json())\n",
    "    assert res.num_of_res == 1 and res.searched[0] == key, f'{res}, key={key}' # check this key is valid #\n",
    "    icd9_key, long_name = res.results[0]\n",
    "    return pd.DataFrame([icd9_key, res.additional['short_name'][0], long_name],\n",
    "                        index=['icd9_key', 'short_name', 'long_name'], \n",
    "                        columns=[key]).T"
   ]
  },
  {
   "cell_type": "code",
   "execution_count": 21,
   "metadata": {},
   "outputs": [
    {
     "data": {
      "text/plain": [
       "[53,\n",
       " ['76505', '76515', '76495', '76415', '76405', '76425', '25000'],\n",
       " None,\n",
       " [['765.05', ' Extreme immaturity, 1,250-1,499 grams'],\n",
       "  ['765.15', ' Other preterm infants, 1,250-1,499 grams'],\n",
       "  ['764.95', ' Fetal growth retardation, unspecified, 1,250-1,499 grams'],\n",
       "  ['764.15',\n",
       "   ' \"Light-for-dates\" with signs of fetal malnutrition, 1,250-1,499 grams'],\n",
       "  ['764.05',\n",
       "   ' \"Light-for-dates\"without mention of fetal malnutrition, 1,250- 1,499 grams'],\n",
       "  ['764.25',\n",
       "   ' Fetal malnutrition without mention of \"light-for-dates\", 1,250-1,499 grams'],\n",
       "  ['250.00',\n",
       "   ' Diabetes mellitus without mention of complication, type II or unspecified type, not stated as uncontrolled']]]"
      ]
     },
     "execution_count": 21,
     "metadata": {},
     "output_type": "execute_result"
    }
   ],
   "source": [
    "response.json()"
   ]
  },
  {
   "cell_type": "code",
   "execution_count": 17,
   "metadata": {},
   "outputs": [
    {
     "data": {
      "text/html": [
       "<div>\n",
       "<style scoped>\n",
       "    .dataframe tbody tr th:only-of-type {\n",
       "        vertical-align: middle;\n",
       "    }\n",
       "\n",
       "    .dataframe tbody tr th {\n",
       "        vertical-align: top;\n",
       "    }\n",
       "\n",
       "    .dataframe thead th {\n",
       "        text-align: right;\n",
       "    }\n",
       "</style>\n",
       "<table border=\"1\" class=\"dataframe\">\n",
       "  <thead>\n",
       "    <tr style=\"text-align: right;\">\n",
       "      <th></th>\n",
       "      <th>icd9_key</th>\n",
       "      <th>short_name</th>\n",
       "      <th>long_name</th>\n",
       "    </tr>\n",
       "  </thead>\n",
       "  <tbody>\n",
       "    <tr>\n",
       "      <th>25000</th>\n",
       "      <td>250.00</td>\n",
       "      <td>DMII wo cmp nt st uncntr</td>\n",
       "      <td>Diabetes mellitus without mention of complica...</td>\n",
       "    </tr>\n",
       "  </tbody>\n",
       "</table>\n",
       "</div>"
      ],
      "text/plain": [
       "      icd9_key                 short_name  \\\n",
       "25000   250.00   DMII wo cmp nt st uncntr   \n",
       "\n",
       "                                               long_name  \n",
       "25000   Diabetes mellitus without mention of complica...  "
      ]
     },
     "execution_count": 17,
     "metadata": {},
     "output_type": "execute_result"
    }
   ],
   "source": [
    "get_icd9_from_api('25000')"
   ]
  }
 ],
 "metadata": {
  "kernelspec": {
   "display_name": "Python 3",
   "language": "python",
   "name": "python3"
  },
  "language_info": {
   "codemirror_mode": {
    "name": "ipython",
    "version": 3
   },
   "file_extension": ".py",
   "mimetype": "text/x-python",
   "name": "python",
   "nbconvert_exporter": "python",
   "pygments_lexer": "ipython3",
   "version": "3.6.9"
  }
 },
 "nbformat": 4,
 "nbformat_minor": 4
}
