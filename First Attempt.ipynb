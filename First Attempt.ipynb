{
 "cells": [
  {
   "cell_type": "code",
   "execution_count": 127,
   "metadata": {},
   "outputs": [],
   "source": [
    "import numpy as np\n",
    "import pandas as pd \n",
    "import datetime\n",
    "%matplotlib inline\n",
    "df_orig = pd.read_excel('data_fixed.xlsx')"
   ]
  },
  {
   "cell_type": "code",
   "execution_count": 139,
   "metadata": {},
   "outputs": [],
   "source": [
    "df = df_orig.copy()\n",
    "\n",
    "# rename hebrew column names\n",
    "df = df.rename(columns={\"תאריך\": \"date\", \"שעה\": \"time\"})\n",
    "\n",
    "# remove datetime types from time column\n",
    "for row in df.index:\n",
    "    if (type(df.loc[row,'time']) == datetime.datetime):\n",
    "        df.loc[row,'time'] = df.loc[row,'time'].time()\n",
    "\n",
    "# Replace strings with nans (mostly Samp, Calib, NoData, Down, InVld)\n",
    "cols = list(df.columns)\n",
    "cols.remove('time')\n",
    "cols.remove('date')\n",
    "mask = df[cols].applymap(lambda x: isinstance(x, (int, float)))\n",
    "df[cols] = df[cols].where(mask)\n",
    "\n",
    "# remove 2nd row [units] from df and store in dataset description\n",
    "df.drop([0], inplace=True)\n",
    "\n",
    "# Clip negative measurements to 0. Don't clip temperature, date and time\n",
    "cols_dont_clip = ['SHT', 'SHT.1', 'Temp', 'date', 'time']\n",
    "cols_clip = [col for col in df.columns if col not in cols_dont_clip]\n",
    "for col in cols_clip:\n",
    "    df[col].clip(lower=0)\n",
    "    \n",
    "df.to_csv(\"first_try.csv\")\n"
   ]
  },
  {
   "cell_type": "code",
   "execution_count": 138,
   "metadata": {},
   "outputs": [],
   "source": []
  }
 ],
 "metadata": {
  "kernelspec": {
   "display_name": "Python 3",
   "language": "python",
   "name": "python3"
  },
  "language_info": {
   "codemirror_mode": {
    "name": "ipython",
    "version": 3
   },
   "file_extension": ".py",
   "mimetype": "text/x-python",
   "name": "python",
   "nbconvert_exporter": "python",
   "pygments_lexer": "ipython3",
   "version": "3.7.1"
  }
 },
 "nbformat": 4,
 "nbformat_minor": 2
}
