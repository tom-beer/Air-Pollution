{
 "cells": [
  {
   "cell_type": "code",
   "execution_count": null,
   "metadata": {},
   "outputs": [],
   "source": [
    "import numpy as np\n",
    "import pandas as pd \n",
    "import datetime\n",
    "\n",
    "df_orig = pd.read_excel('data_fixed.xlsx')"
   ]
  },
  {
   "cell_type": "code",
   "execution_count": null,
   "metadata": {},
   "outputs": [],
   "source": [
    "df = df_orig.copy()\n",
    "\n",
    "# rename hebrew column names\n",
    "df = df.rename(columns={\"תאריך\": \"date\", \"שעה\": \"time\"})\n",
    "\n",
    "# remove datetime types from time column\n",
    "for row in df.index:\n",
    "    if (type(df.loc[row,'time']) == datetime.datetime):\n",
    "        df.loc[row,'time'] = df.loc[row,'time'].time()"
   ]
  },
  {
   "cell_type": "code",
   "execution_count": null,
   "metadata": {},
   "outputs": [],
   "source": [
    "# df.replace({'Calib': np.nan,'<Samp': np.nan},inplace=True)\n",
    "# type(df.loc[12081,'Temp'])\n",
    "# type(df.loc[881,'Temp'])\n",
    "# Negative NO and maybe other measurements?\n",
    "# replace Calib, Samp and such with nan?\n",
    "# remove 2nd row [units] from df and store in dataset description\n",
    "# change all column names to lower case with no spaces - meanwhile no\n",
    "\n",
    "cols = list(df.columns)\n",
    "cols.remove('time')\n",
    "cols.remove('date')\n",
    "\n",
    "mask = df[cols].applymap(lambda x: isinstance(x, (int, float)))\n",
    "\n",
    "df[cols] = df[cols].where(mask)\n",
    "df"
   ]
  }
 ],
 "metadata": {
  "kernelspec": {
   "display_name": "Python 3",
   "language": "python",
   "name": "python3"
  },
  "language_info": {
   "codemirror_mode": {
    "name": "ipython",
    "version": 3
   },
   "file_extension": ".py",
   "mimetype": "text/x-python",
   "name": "python",
   "nbconvert_exporter": "python",
   "pygments_lexer": "ipython3",
   "version": "3.7.1"
  }
 },
 "nbformat": 4,
 "nbformat_minor": 2
}
