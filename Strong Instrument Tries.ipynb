{
 "cells": [
  {
   "cell_type": "code",
   "execution_count": 7,
   "metadata": {},
   "outputs": [],
   "source": [
    "import numpy as np\n",
    "import math\n",
    "import pandas as pd \n",
    "from sklearn.linear_model import Lasso, Ridge, LinearRegression\n",
    "from collections import defaultdict\n",
    "from scipy.special import expit\n",
    "basic_path = '../Simulations/'\n",
    "\n",
    "def CalcRegressionError(gamma_T=1): # coefficient I -> T\n",
    "\n",
    "    np.random.seed(42)\n",
    "    proxy_type = 'Gaussian'\n",
    "\n",
    "    r = 5         # confounder's dimension\n",
    "    gamma_V = 1   # coefficient Ui -> X\n",
    "    delta = 1     # coefficient U -> Y\n",
    "    tau = 2       # causal effect\n",
    "    alpha = np.array([-2,-3,-2,-3,-2]) * delta\n",
    "    beta  = np.array([1,2,2,2,2])\n",
    "\n",
    "    p = 1500   # number of proxies\n",
    "    N = p + 50  # number of samples\n",
    "    lasso = Lasso(alpha=1e-3, random_state=42, max_iter=800)\n",
    "    lnreg = LinearRegression(n_jobs=-1)\n",
    "    ridge = Ridge(alpha=3.0, random_state=42)\n",
    "    ate_vec = list()\n",
    "\n",
    "    V = np.random.randn(r,p)  # \"We keep V fixed across the replications\"\n",
    "    Vi = gamma_V * np.random.randn(1,p)\n",
    "    for rep in range(50):\n",
    "\n",
    "        U = np.random.randn(N,r)\n",
    "        I = np.random.randn(N)\n",
    "        T = np.random.binomial(np.ones(N,dtype=int), (expit(U.dot(beta) + gamma_T*I)))\n",
    "        Y = np.random.randn(N) + U.dot(alpha) + tau*T\n",
    "\n",
    "        if proxy_type == 'Binary':\n",
    "            X = np.random.binomial(1, (expit(U.dot(V) + np.outer(I,Vi))))\n",
    "        elif proxy_type == 'Poisson':\n",
    "            X = np.random.poisson(lam=np.ceil(expit(U.dot(V) + np.outer(I,Vi))))\n",
    "        elif proxy_type == 'Gaussian':\n",
    "            X  = 5*np.random.randn(N,p) + U.dot(V) + np.outer(I,Vi)\n",
    "            \n",
    "            \n",
    "        #### Choose one ATE estimator ####\n",
    "        \n",
    "        # lasso.fit(X[np.where(T == 0)], Y[np.where(T == 0)])\n",
    "        # y0 = lasso.predict(X)\n",
    "        # lasso.fit(X[np.where(T == 1)], Y[np.where(T == 1)])\n",
    "        # y1 = lasso.predict(X)\n",
    "        # ate = np.mean(y1 - y0)\n",
    "\n",
    "        lnreg.fit(X[np.where(T == 0)], Y[np.where(T == 0)])\n",
    "        y0 = lnreg.predict(X)\n",
    "        lnreg.fit(X[np.where(T == 1)], Y[np.where(T == 1)])\n",
    "        y1 = lnreg.predict(X)\n",
    "        ate = np.mean(y1 - y0)\n",
    "        \n",
    "#         TX = np.concatenate((T.reshape(N,1),X),axis=1)\n",
    "#         lnreg.fit(TX,Y)\n",
    "#         ate = lnreg.coef_[0]\n",
    "\n",
    "#         IU = np.concatenate((I.reshape(N,1),U),axis=1)\n",
    "#         lnreg.fit(IU[np.where(T == 1)], Y[np.where(T == 1)])\n",
    "#         y1 = lnreg.predict(IU)\n",
    "#         lnreg.fit(IU[np.where(T == 0)], Y[np.where(T == 0)])\n",
    "#         y0 = lnreg.predict(IU)\n",
    "#         ate = np.mean(y1-y0)\n",
    "\n",
    "        ate_vec.append(ate)\n",
    "    \n",
    "    return(np.array(ate_vec))\n"
   ]
  },
  {
   "cell_type": "code",
   "execution_count": 25,
   "metadata": {},
   "outputs": [
    {
     "name": "stdout",
     "output_type": "stream",
     "text": [
      "mse1 = 0.25169617603753375\n",
      "bias1 = -0.48794915324854005\n",
      "var1 = 0.0136017998815667\n",
      "mse10 = 0.08533198202721946\n",
      "bias10 = -0.2560699136332998\n",
      "var10 = 0.019760181359053882\n"
     ]
    }
   ],
   "source": [
    "ate1 = CalcRegressionError(gamma_T=1)\n",
    "ate10 = CalcRegressionError(gamma_T=10)\n",
    "\n",
    "print(\"mse1 = \"  + str(np.mean((ate1-2)**2)))\n",
    "print(\"bias1 = \" + str(np.mean(ate1)-2))\n",
    "print(\"var1 = \"  + str(np.var(ate1)))\n",
    "\n",
    "print(\"mse10 = \"  + str(np.mean((ate10-2)**2)))\n",
    "print(\"bias10 = \" + str(np.mean(ate10)-2))\n",
    "print(\"var10 = \"  + str(np.var(ate10)))"
   ]
  }
 ],
 "metadata": {
  "kernelspec": {
   "display_name": "Python 3",
   "language": "python",
   "name": "python3"
  },
  "language_info": {
   "codemirror_mode": {
    "name": "ipython",
    "version": 3
   },
   "file_extension": ".py",
   "mimetype": "text/x-python",
   "name": "python",
   "nbconvert_exporter": "python",
   "pygments_lexer": "ipython3",
   "version": "3.7.1"
  }
 },
 "nbformat": 4,
 "nbformat_minor": 2
}
